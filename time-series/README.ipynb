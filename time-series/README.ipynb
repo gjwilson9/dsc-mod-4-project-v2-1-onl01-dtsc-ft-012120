{
 "cells": [
  {
   "cell_type": "markdown",
   "metadata": {},
   "source": [
    "# README: Zillow Home Price Prediction using Time Series Analysis"
   ]
  },
  {
   "cell_type": "markdown",
   "metadata": {},
   "source": [
    "* Student: Graham Wilson\n",
    "* Instructor: Rafael\n",
    "* Cohort: DS041320"
   ]
  },
  {
   "cell_type": "markdown",
   "metadata": {},
   "source": [
    "## Overview"
   ]
  },
  {
   "cell_type": "markdown",
   "metadata": {},
   "source": [
    "A Real Estate investment firm is interested in entering the Fort Worth housing market. They've requested information on the most profitable five zip codes in terms of a forward looking 3 year return on investment (ROI).\n",
    "\n",
    "The provided data is from Zillow's research page: https://www.zillow.com/research/data/. The data can also be found in the repository as a csv file: 'zillow_data.csv'. This dataset contains monthly home prices from 1996 through 2018 for much of the United States.\n",
    "\n",
    "This analysis aims to use the Time Series modeling technique known as SARIMA(Seasonal Auto-regressive Inegrated Moving Average) to accurately predict and forecast ROI for the target area.\n"
   ]
  },
  {
   "cell_type": "markdown",
   "metadata": {},
   "source": [
    "## Data"
   ]
  },
  {
   "cell_type": "markdown",
   "metadata": {},
   "source": [
    "As mentioned above, the Zillow dataset contains home price values for much of the United State from April of 1996 though April of 2018. Columns include: SizeRank, RegionID, RegionName(zip code), City, State, Metro, CountyName, date(time), and value. \n",
    "\n",
    "\n",
    "Most of these columns aren't helpful for the scope of this project. Here, time, value, and zip code for the Fort Worth area are required for time series analysis. The other columns can be ignored/dropped."
   ]
  },
  {
   "cell_type": "markdown",
   "metadata": {},
   "source": [
    "<a href=\"https://imgur.com/9fABlI3\"><img src=\"https://i.imgur.com/9fABlI3.png\" title=\"source: imgur.com\" /></a>"
   ]
  },
  {
   "cell_type": "markdown",
   "metadata": {},
   "source": [
    "The modified dataset for the Fort Worth area include 59 unique zip codes and 272 months of home price valuations. "
   ]
  },
  {
   "cell_type": "markdown",
   "metadata": {},
   "source": [
    "# Preprocessing"
   ]
  },
  {
   "cell_type": "markdown",
   "metadata": {},
   "source": [
    "The preprocessing steps include:\n",
    "    \n",
    "*  Check for missing data/null values - none\n",
    "*  Melt data from wide to long format\n",
    "*  Drop unnecessary columns from modified Fort Worth data frame\n",
    "*  Set the index to datetime format for time series analysis\n",
    "    "
   ]
  },
  {
   "cell_type": "markdown",
   "metadata": {},
   "source": [
    "# Exploration"
   ]
  },
  {
   "cell_type": "markdown",
   "metadata": {},
   "source": [
    "## Check for Stationarity"
   ]
  },
  {
   "cell_type": "markdown",
   "metadata": {},
   "source": [
    "* Time series modeling for accurate forecasting requires the data to be stationary. This is achieved when the statistical properties of mean, variance, and covariance remain constant over time. Stationarity can be tested in a variety of ways, however in this case the Dickey-Fuller test will be used. The null hypothesis for this test assumes that the provided data are not stationary. To reject the null hypothesis and confirm that the data are stationary, the test statistics must be less than the critical value of p < 0.05. "
   ]
  },
  {
   "cell_type": "markdown",
   "metadata": {},
   "source": [
    "Dickey Fuller Test:\n",
    "\n",
    "<a href=\"https://imgur.com/Q8sZKXo\"><img src=\"https://i.imgur.com/Q8sZKXo.png\" title=\"source: imgur.com\" /></a>"
   ]
  },
  {
   "cell_type": "markdown",
   "metadata": {},
   "source": [
    "* Output Example:\n",
    "\n",
    "<a href=\"https://imgur.com/fOa6hu7\"><img src=\"https://i.imgur.com/fOa6hu7.png\" title=\"source: imgur.com\" /></a>"
   ]
  },
  {
   "cell_type": "markdown",
   "metadata": {},
   "source": [
    "* None of the p-values for any of the zip codes fall below the critical value, so the null hypothesis holds up and none of the data are stationary.  "
   ]
  },
  {
   "cell_type": "markdown",
   "metadata": {},
   "source": [
    "## Decomposition"
   ]
  },
  {
   "cell_type": "markdown",
   "metadata": {},
   "source": [
    "Time series decomposition splits the time series data into three different components: seasonal, trend, and residuals. This makes it easy to visualize whether or not time series data are stationary and ready to model. Having already performed the dickey-fuller test, it is assumed at this will return what is already known - that the series is not stationary. However, these visualizations will help isolate trends and seasonality in a visual format. "
   ]
  },
  {
   "cell_type": "markdown",
   "metadata": {},
   "source": [
    "<a href=\"https://imgur.com/0xAY6Wt\"><img src=\"https://i.imgur.com/0xAY6Wt.png\" title=\"source: imgur.com\" /></a>"
   ]
  },
  {
   "cell_type": "markdown",
   "metadata": {},
   "source": [
    "* From the above charts, it's clear that there is an overall upward trend in home prices over time, along with what looks like yearly seasonality."
   ]
  },
  {
   "cell_type": "markdown",
   "metadata": {},
   "source": [
    "## ACF and PACF"
   ]
  },
  {
   "cell_type": "markdown",
   "metadata": {},
   "source": [
    "* A general assumption for time series modeling is that tomorrow's home value will be related to today's (or yesterday's) price. Both auto correlation (ACF), and partial auto correlation (PACF) are two tools that help with exactly how correlative current prices are to previous prices. ACF correlates the influence of previous price based over a given lag time, whereas PACF removes indirect correlation and measures direct influence of price between two specific observations.\n",
    "\n",
    "\n",
    "* Visualizing both of these measurements help with determining the range in hyper-parameter (p, q) selection for optimal time series modeling. With p coming from the PACF graph, and q from the ACF graph.\n",
    "\n"
   ]
  },
  {
   "cell_type": "markdown",
   "metadata": {},
   "source": [
    "* ACF and PACF with no lags"
   ]
  },
  {
   "cell_type": "markdown",
   "metadata": {},
   "source": [
    "<a href=\"https://imgur.com/r0jrybY\"><img src=\"https://i.imgur.com/r0jrybY.png\" title=\"source: imgur.com\" /></a>"
   ]
  },
  {
   "cell_type": "markdown",
   "metadata": {},
   "source": [
    "* ACF and PACF with 4 lags"
   ]
  },
  {
   "cell_type": "markdown",
   "metadata": {},
   "source": [
    "<a href=\"https://imgur.com/4Ng6Ulb\"><img src=\"https://i.imgur.com/4Ng6Ulb.png\" title=\"source: imgur.com\" /></a>"
   ]
  },
  {
   "cell_type": "markdown",
   "metadata": {},
   "source": [
    "* Plotting the mean ACF for the Fort Worth Area shows a significant correlation to the previous time period with significant lags somewhere between 0 and 15. This is represented at q and seasonal Q within the model\n",
    "\n",
    "\n",
    "* The initial PACF showed no significance. However, by subtracting 4 months from its current value, the PACF begins to reveal that PACF (p and Seasonal P) should play a role in selecting higher orders for this specific hyper-parameter. Ideally, somewhere between 0 and 6.\n",
    "\n",
    "\n",
    "* Ideally, this would be done for each individual zip code as each one follows its own trend, and would result in differing p and q values.\n",
    "\n"
   ]
  },
  {
   "cell_type": "markdown",
   "metadata": {},
   "source": [
    "# Model"
   ]
  },
  {
   "cell_type": "markdown",
   "metadata": {},
   "source": [
    "* As observed from the decomposition graphs, the data needs to be adjusted for both seasonality and positive trends over time. This requires the use of the SARIMA approach to time series modeling, where seasonality must also be taken into account.\n",
    "\n",
    "\n",
    "* The orders of hyper-parameters needed to fully complete an accurate prediction for each individual zip code require a high level of computational time and power. This was observed in many trial runs of a single zip code within the 'starter_notebook' located in this repository. Due to a time constraint, the hyper-parameter settings have been scaled down in hopes that lower orders will result in meaningful predictions across enough zip codes to provide accurate forecasts.\n",
    "\n",
    "\n",
    "* p, P, q, Q range between 0-2. d and D range between 1-2"
   ]
  },
  {
   "cell_type": "markdown",
   "metadata": {},
   "source": [
    "<a href=\"https://imgur.com/m6GLztp\"><img src=\"https://i.imgur.com/m6GLztp.png\" title=\"source: imgur.com\" /></a>"
   ]
  },
  {
   "cell_type": "markdown",
   "metadata": {},
   "source": [
    "* This process took 26 hours to run."
   ]
  },
  {
   "cell_type": "markdown",
   "metadata": {},
   "source": [
    "# Forecast"
   ]
  },
  {
   "cell_type": "markdown",
   "metadata": {},
   "source": [
    "* Optimal parameters for each zip code were selected and the model was rerun and predictions were made for the time frame between January 2015 to April 2018. \n",
    "\n",
    "\n",
    "\n",
    "* Mean squared errors were also calculated for each prediction to determine the accuracy of the modeling process.\n",
    "\n",
    "\n",
    "* Unfortunately, setting the hyper-parameter orders lower to cut back on computing time resulted in adverse modeling predictions\n",
    "\n",
    "<a href=\"https://imgur.com/jCwTuU4\"><img src=\"https://i.imgur.com/jCwTuU4.png\" title=\"source: imgur.com\" /></a>\n",
    "\n",
    "* Above are the lowest mse values calculated for Fort Worth zip codes."
   ]
  },
  {
   "cell_type": "markdown",
   "metadata": {},
   "source": [
    "* Visualizing these results will help determine how far off these predictions actually are.\n",
    "\n",
    "<a href=\"https://imgur.com/1ioIOCQ\"><img src=\"https://i.imgur.com/1ioIOCQ.png\" title=\"source: imgur.com\" /></a>\n",
    "\n",
    "\n",
    "\n",
    "* From the above graphs, there clearly seems to be an issue with predicted home prices. Even though the trends seem to be somewhat accurate, the predicted values are much higher than they should be.\n",
    "\n",
    "\n",
    "* Forecasting off of these highly inaccurate predictions will yield inaccurate future home prices. However, for the sake of completion 3 year forecasts will be made\n",
    "\n"
   ]
  },
  {
   "cell_type": "markdown",
   "metadata": {},
   "source": [
    "<a href=\"https://imgur.com/rNkK97A\"><img src=\"https://i.imgur.com/rNkK97A.png\" title=\"source: imgur.com\" /></a>"
   ]
  },
  {
   "cell_type": "markdown",
   "metadata": {},
   "source": [
    "* The above df shows the 3 year home value forecast for each zip code along with their respective ROI. However, these values are known to be highly inaccurate. This is seen in the above visualizations where price predictions began at much higher values than where the actual home prices were documented."
   ]
  },
  {
   "cell_type": "markdown",
   "metadata": {},
   "source": [
    "# Conclusion"
   ]
  },
  {
   "cell_type": "markdown",
   "metadata": {},
   "source": [
    "* Having used the SARIMA model for time series analysis on home values in the Fort Worth area, it is clear from the results that further model refinement must be performed. There are a variety of steps that will refine the model to make more accurate predictions moving forward. They include:\n",
    "\n",
    "\n",
    "  * Refine the initial investment strategy to decrease number of zip codes to analyze\n",
    "  * Increase the hyper-parameter search criteria allowing for more stationary time series and subsequently more    accurate inputs for the SARMIA model\n",
    "  * Split the time series to test/train a model after the 2008 recession. This could potentially more accurately capture the post recession trend while allowing for better home price forecasting.\n",
    "    \n",
    "    \n",
    "* In the sake of limited time, these model refinements will have to come at a later date. But, will result in much more accurate predictions. After these modifications are performed, the top 5 zip codes to invest for 3 year ROI can be recommended; it doesn't seem prudent at this time to provide investment advice with the current home price forecasts."
   ]
  },
  {
   "cell_type": "markdown",
   "metadata": {},
   "source": [
    "## Recommendations"
   ]
  },
  {
   "cell_type": "markdown",
   "metadata": {},
   "source": [
    "* Once the model provides more accurate predictions, there are plenty of other considerations to incorporate into a housing investment strategy. These include integrating more data such as school ratings, demopgraphics, income levels, rent/own ratio, job opportunities, and nearby amenities to name a few. All of these variables can provide a much more accurate housing price evaluation for potential future investments within the target areas.\n",
    "\n"
   ]
  },
  {
   "cell_type": "code",
   "execution_count": null,
   "metadata": {},
   "outputs": [],
   "source": []
  }
 ],
 "metadata": {
  "kernelspec": {
   "display_name": "Python [conda env:learn-env] *",
   "language": "python",
   "name": "conda-env-learn-env-py"
  },
  "language_info": {
   "codemirror_mode": {
    "name": "ipython",
    "version": 3
   },
   "file_extension": ".py",
   "mimetype": "text/x-python",
   "name": "python",
   "nbconvert_exporter": "python",
   "pygments_lexer": "ipython3",
   "version": "3.6.9"
  },
  "toc": {
   "base_numbering": 1,
   "nav_menu": {},
   "number_sections": true,
   "sideBar": true,
   "skip_h1_title": false,
   "title_cell": "Table of Contents",
   "title_sidebar": "Contents",
   "toc_cell": false,
   "toc_position": {},
   "toc_section_display": true,
   "toc_window_display": false
  },
  "varInspector": {
   "cols": {
    "lenName": 16,
    "lenType": 16,
    "lenVar": 40
   },
   "kernels_config": {
    "python": {
     "delete_cmd_postfix": "",
     "delete_cmd_prefix": "del ",
     "library": "var_list.py",
     "varRefreshCmd": "print(var_dic_list())"
    },
    "r": {
     "delete_cmd_postfix": ") ",
     "delete_cmd_prefix": "rm(",
     "library": "var_list.r",
     "varRefreshCmd": "cat(var_dic_list()) "
    }
   },
   "types_to_exclude": [
    "module",
    "function",
    "builtin_function_or_method",
    "instance",
    "_Feature"
   ],
   "window_display": false
  }
 },
 "nbformat": 4,
 "nbformat_minor": 2
}
